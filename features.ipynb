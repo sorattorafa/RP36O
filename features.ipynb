{
 "cells": [
  {
   "cell_type": "code",
   "execution_count": 142,
   "metadata": {},
   "outputs": [],
   "source": [
    "import matplotlib\n",
    "import mne\n",
    "from scipy.signal import stft\n",
    "\n",
    "import numpy\n",
    "\n",
    "%matplotlib inline"
   ]
  },
  {
   "cell_type": "code",
   "execution_count": 143,
   "metadata": {},
   "outputs": [
    {
     "output_type": "stream",
     "name": "stdout",
     "text": "Reading files/filtered_epo.fif ...\n    Found the data of interest:\n        t =       0.00 ...    4816.00 ms\n        0 CTF compensation matrices available\n125 matching events found\nNo baseline correction applied\nNot setting metadata\n0 projection items activated\n"
    },
    {
     "output_type": "execute_result",
     "data": {
      "text/plain": "(125, 16, 1205)"
     },
     "metadata": {},
     "execution_count": 143
    }
   ],
   "source": [
    "epochs = mne.read_epochs('files/filtered_epo.fif')\n",
    "data = epochs.get_data()\n",
    "data.shape"
   ]
  },
  {
   "cell_type": "code",
   "execution_count": 144,
   "metadata": {},
   "outputs": [
    {
     "output_type": "stream",
     "name": "stdout",
     "text": "(125, 16, 17, 77)\n"
    }
   ],
   "source": [
    "# aplicando STFT\n",
    "_, _, w = stft(data, fs=241, nperseg=32, noverlap=16)\n",
    "print(w.shape)"
   ]
  },
  {
   "cell_type": "code",
   "execution_count": 145,
   "metadata": {},
   "outputs": [],
   "source": [
    "def shape_characteristic(array):\n",
    "    array = array.transpose(0, 2, 1)\n",
    "    return numpy.reshape(array, (array.shape[0] * array.shape[1], array.shape[2]))"
   ]
  },
  {
   "cell_type": "markdown",
   "metadata": {},
   "source": [
    "## Média"
   ]
  },
  {
   "cell_type": "code",
   "execution_count": 146,
   "metadata": {},
   "outputs": [
    {
     "output_type": "execute_result",
     "data": {
      "text/plain": "(2125, 16)"
     },
     "metadata": {},
     "execution_count": 146
    }
   ],
   "source": [
    "result = numpy.mean(w, -1)\n",
    "mean = shape_characteristic(result)\n",
    "mean.shape"
   ]
  },
  {
   "cell_type": "markdown",
   "metadata": {},
   "source": [
    "## Maximo"
   ]
  },
  {
   "cell_type": "code",
   "execution_count": 147,
   "metadata": {},
   "outputs": [
    {
     "output_type": "execute_result",
     "data": {
      "text/plain": "(2125, 16)"
     },
     "metadata": {},
     "execution_count": 147
    }
   ],
   "source": [
    "result = numpy.max(w, -1)\n",
    "_max = shape_characteristic(result)\n",
    "_max.shape"
   ]
  },
  {
   "cell_type": "markdown",
   "metadata": {},
   "source": [
    "## Minimo"
   ]
  },
  {
   "cell_type": "code",
   "execution_count": 148,
   "metadata": {},
   "outputs": [
    {
     "output_type": "execute_result",
     "data": {
      "text/plain": "(2125, 16)"
     },
     "metadata": {},
     "execution_count": 148
    }
   ],
   "source": [
    "result = numpy.min(w, -1)\n",
    "_min = shape_characteristic(result)\n",
    "_min.shape"
   ]
  },
  {
   "cell_type": "markdown",
   "metadata": {},
   "source": [
    "## Desvio padrão"
   ]
  },
  {
   "cell_type": "code",
   "execution_count": 149,
   "metadata": {},
   "outputs": [
    {
     "output_type": "execute_result",
     "data": {
      "text/plain": "(2125, 16)"
     },
     "metadata": {},
     "execution_count": 149
    }
   ],
   "source": [
    "result = numpy.std(w, -1)\n",
    "std = shape_characteristic(result)\n",
    "std.shape"
   ]
  },
  {
   "cell_type": "markdown",
   "metadata": {},
   "source": [
    "# PSD"
   ]
  },
  {
   "cell_type": "code",
   "execution_count": 150,
   "metadata": {},
   "outputs": [
    {
     "output_type": "stream",
     "name": "stdout",
     "text": "(125, 16, 17, 77)\n"
    }
   ],
   "source": [
    "w_psd = numpy.abs(w) ** 2\n",
    "print(w.shape)"
   ]
  },
  {
   "cell_type": "markdown",
   "metadata": {},
   "source": [
    "## Média do PSD"
   ]
  },
  {
   "cell_type": "code",
   "execution_count": 151,
   "metadata": {},
   "outputs": [
    {
     "output_type": "execute_result",
     "data": {
      "text/plain": "(2125, 16)"
     },
     "metadata": {},
     "execution_count": 151
    }
   ],
   "source": [
    "result = numpy.mean(w_psd, -1)\n",
    "mean_psd = shape_characteristic(result)\n",
    "mean_psd.shape"
   ]
  },
  {
   "cell_type": "markdown",
   "metadata": {},
   "source": [
    "## Desvio padrão do PSD"
   ]
  },
  {
   "cell_type": "code",
   "execution_count": 152,
   "metadata": {},
   "outputs": [
    {
     "output_type": "execute_result",
     "data": {
      "text/plain": "(2125, 16)"
     },
     "metadata": {},
     "execution_count": 152
    }
   ],
   "source": [
    "result = numpy.std(w_psd, -1)\n",
    "std_psd = shape_characteristic(result)\n",
    "std_psd.shape"
   ]
  },
  {
   "cell_type": "markdown",
   "metadata": {},
   "source": [
    "## Concatenando tudo no vetor de características X"
   ]
  },
  {
   "cell_type": "code",
   "execution_count": 153,
   "metadata": {},
   "outputs": [],
   "source": [
    "X = numpy.concatenate((mean, _max, _min, std, mean_psd, std_psd), axis=-1)"
   ]
  },
  {
   "cell_type": "code",
   "execution_count": 154,
   "metadata": {},
   "outputs": [
    {
     "output_type": "stream",
     "name": "stdout",
     "text": "(2125, 96)\n"
    }
   ],
   "source": [
    "print(X.shape)"
   ]
  },
  {
   "cell_type": "markdown",
   "metadata": {},
   "source": [
    "# Adaptação do vetor de labels y\n",
    "\n",
    "Temos que adaptar o vetor de labels para ficar do mesmo tamanho (mesma quantidade de linhas) que o vetor de dados X\n"
   ]
  },
  {
   "cell_type": "code",
   "execution_count": 155,
   "metadata": {},
   "outputs": [
    {
     "output_type": "stream",
     "name": "stdout",
     "text": "Shape original dos labels (125,)\nShape final dos labels (125,)\n"
    }
   ],
   "source": [
    "y = numpy.load('files/labels.npy')\n",
    "print('Shape original dos labels', y.shape)\n",
    "\n",
    "size = int(X.shape[0] / y.shape[0])\n",
    "Y = numpy.concatenate([y for i in range(size)])\n",
    "print('Shape final dos labels', y.shape)"
   ]
  },
  {
   "cell_type": "code",
   "execution_count": null,
   "metadata": {},
   "outputs": [],
   "source": []
  }
 ],
 "metadata": {
  "kernelspec": {
   "display_name": "Python 3",
   "language": "python",
   "name": "python3"
  },
  "language_info": {
   "codemirror_mode": {
    "name": "ipython",
    "version": 3
   },
   "file_extension": ".py",
   "mimetype": "text/x-python",
   "name": "python",
   "nbconvert_exporter": "python",
   "pygments_lexer": "ipython3",
   "version": "3.7.5-final"
  }
 },
 "nbformat": 4,
 "nbformat_minor": 4
}