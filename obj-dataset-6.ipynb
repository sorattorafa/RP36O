{
 "cells": [
  {
   "cell_type": "code",
   "execution_count": 4,
   "metadata": {},
   "outputs": [
    {
     "name": "stdout",
     "output_type": "stream",
     "text": [
      "Collecting mne\n",
      "  Downloading mne-0.20.7-py3-none-any.whl (6.6 MB)\n",
      "\u001b[K     |████████████████████████████████| 6.6 MB 2.9 MB/s eta 0:00:01\n",
      "\u001b[?25hRequirement already satisfied: numpy>=1.11.3 in /srv/conda/envs/notebook/lib/python3.6/site-packages (from mne) (1.18.5)\n",
      "Requirement already satisfied: scipy>=0.17.1 in /srv/conda/envs/notebook/lib/python3.6/site-packages (from mne) (1.5.0)\n",
      "Installing collected packages: mne\n",
      "Successfully installed mne-0.20.7\n",
      "Note: you may need to restart the kernel to use updated packages.\n"
     ]
    }
   ],
   "source": [
    "pip install mne"
   ]
  },
  {
   "cell_type": "code",
   "execution_count": 7,
   "metadata": {},
   "outputs": [
    {
     "name": "stdout",
     "output_type": "stream",
     "text": [
      "Collecting GoogleDriveDownloader\n",
      "  Downloading googledrivedownloader-0.4-py2.py3-none-any.whl (3.9 kB)\n",
      "Installing collected packages: GoogleDriveDownloader\n",
      "Successfully installed GoogleDriveDownloader-0.4\n",
      "Note: you may need to restart the kernel to use updated packages.\n"
     ]
    }
   ],
   "source": [
    "pip install GoogleDriveDownloader"
   ]
  },
  {
   "cell_type": "code",
   "execution_count": 9,
   "metadata": {},
   "outputs": [],
   "source": [
    "from google_drive_downloader import GoogleDriveDownloader as gdd\n",
    "import numpy as np\n",
    "import json\n",
    "import mne"
   ]
  },
  {
   "cell_type": "code",
   "execution_count": 10,
   "metadata": {},
   "outputs": [],
   "source": [
    "dataset_ids = {\n",
    "    1: '1ym3JqI4_ZYNSBLxoF1vNxI5Hsgur_tha',\n",
    "    2: '1tJ5tHbE-2jwr0gA33Gd873lRPao-e4dF',\n",
    "    3: '1tXdpY-mser01POaP6Qwixny6LjsXXoXB',\n",
    "    4: '1T00cliWp5yqqbbWZ7-rf2X4tOUQ-PvIQ',\n",
    "    5: '1CYsBFMul9zB_vCy0XD7XVfKUl8vihDYZ',\n",
    "    6: '1io6jdALBKeopELWXahPzuAi6EfYDgviW',\n",
    "    7: '1YDkheRDPNDR1ujsqqC_SY6cebWHkw9Xt',\n",
    "    8: '1jjoQJFDCi7O9Q-iaReAPpQnxC-HIKpQi',\n",
    "}\n",
    "label_id = '1mD5MXoh6tfQJFXIvdw2MQsEu6vZka6C0'\n",
    "desc = '14kYNBZYdttqmSS_Vz6Bm_ztG9Uw1MC0y'\n",
    "\n",
    "# ALTERE O ID DO DATASET DE SUA ESCOLHA AQUI ##################################\n",
    "DS = 6"
   ]
  },
  {
   "cell_type": "code",
   "execution_count": 11,
   "metadata": {},
   "outputs": [
    {
     "name": "stdout",
     "output_type": "stream",
     "text": [
      "Downloading 1io6jdALBKeopELWXahPzuAi6EfYDgviW into files/data.npy... \n",
      "295.5 MiB                                                                                                      Done.\n",
      "Downloading 1mD5MXoh6tfQJFXIvdw2MQsEu6vZka6C0 into files/labels.npy... \n",
      "0.0 B Done.\n",
      "Downloading 14kYNBZYdttqmSS_Vz6Bm_ztG9Uw1MC0y into files/descriptor.json... \n",
      "0.0 B Done.\n"
     ]
    }
   ],
   "source": [
    "gdd.download_file_from_google_drive(file_id=dataset_ids[DS],\n",
    "                                    dest_path='files/data.npy',\n",
    "                                    showsize=True)\n",
    "# download do arquivo de marcações\n",
    "gdd.download_file_from_google_drive(file_id=label_id,\n",
    "                                    dest_path='files/labels.npy', showsize=True)\n",
    "\n",
    "# download do arquivo de descrição\n",
    "gdd.download_file_from_google_drive(file_id=desc,\n",
    "                                    dest_path='files/descriptor.json',\n",
    "                                    showsize=True)"
   ]
  },
  {
   "cell_type": "code",
   "execution_count": 12,
   "metadata": {},
   "outputs": [
    {
     "name": "stdout",
     "output_type": "stream",
     "text": [
      "Estruturas => dados (125, 257, 1205) labels (125,)\n"
     ]
    }
   ],
   "source": [
    "X = np.load('files/data.npy')\n",
    "y = np.load('files/labels.npy')\n",
    "desc_file = open('files/descriptor.json')\n",
    "descriptor = json.loads(desc_file.read())\n",
    "desc_file.close()\n",
    "print('Estruturas => dados', X.shape, 'labels', y.shape)"
   ]
  },
  {
   "cell_type": "code",
   "execution_count": 13,
   "metadata": {},
   "outputs": [],
   "source": [
    "#Os dados estão estruturados em numpy arrays.\n",
    "\n",
    "#O \"shape\" (125, 257, 1205) para os dados EEG de X, significa que existem 125 trials (tradução aceitável: ensaio, julgamento), 257 channels que representam os eletrodos e 1205 dados que representam o potencial mensurado em ponto flutuante. Este é um array com três dimensões.\n",
    "\n",
    "#O \"shape\" (125,) para os dados de labels ou marcadores y, apresentam qual é o eletrodo respectivo a cada trial. Os labels estão com valores numéricos como é mostrado a seguir, o que facilita o processamento, mas não é intuitivo."
   ]
  },
  {
   "cell_type": "code",
   "execution_count": 14,
   "metadata": {},
   "outputs": [
    {
     "name": "stdout",
     "output_type": "stream",
     "text": [
      "Características do voluntário: {'age': '31', 'capsize': 'Adult Medium', 'gender': 'Female', 'hairtype': 'Thick', 'handedness': 'Right'}\n",
      "\n",
      "Rótulos: {'1': 6.66, '2': 7.5, '3': 8.57, '4': 10.0, '5': 12.0}\n",
      "\n",
      "Taxa de amostragem: 250\n"
     ]
    }
   ],
   "source": [
    "print('Características do voluntário:', descriptor[str(DS)])\n",
    "print('\\nRótulos:', descriptor['frequencies'])\n",
    "print('\\nTaxa de amostragem:', descriptor['sampling_rate'])"
   ]
  },
  {
   "cell_type": "code",
   "execution_count": 23,
   "metadata": {},
   "outputs": [],
   "source": [
    "X = X[:,:256,:]\n",
    "ch_names = X.shape[1]\n",
    "sfreq = X.shape[-1]\n",
    "ch_types = 'eeg'\n",
    "\n",
    "info = mne.create_info(ch_names=ch_names, sfreq=250.0, ch_types=ch_types)"
   ]
  },
  {
   "cell_type": "code",
   "execution_count": 24,
   "metadata": {},
   "outputs": [
    {
     "name": "stdout",
     "output_type": "stream",
     "text": [
      "125 matching events found\n",
      "No baseline correction applied\n",
      "Not setting metadata\n",
      "0 projection items activated\n",
      "0 bad epochs dropped\n"
     ]
    }
   ],
   "source": [
    "events = [[i, 0, e] for i, e in enumerate(y)]\n",
    "obj = mne.EpochsArray(X, info, events=np.array(events))"
   ]
  },
  {
   "cell_type": "code",
   "execution_count": 25,
   "metadata": {},
   "outputs": [
    {
     "data": {
      "text/plain": [
       "<EpochsArray  |   125 events (all good), 0 - 4.816 sec, baseline off, ~294.7 MB, data loaded,\n",
       " '1': 25\n",
       " '2': 25\n",
       " '3': 30\n",
       " '4': 25\n",
       " '5': 20>"
      ]
     },
     "execution_count": 25,
     "metadata": {},
     "output_type": "execute_result"
    }
   ],
   "source": [
    "obj"
   ]
  },
  {
   "cell_type": "code",
   "execution_count": null,
   "metadata": {},
   "outputs": [],
   "source": [
    "\n",
    "import matplotlib\n",
    "\n",
    "%matplotlib inline\n",
    "# aumentando a escala das figuras no matplotlib (padrão 6. x 4.)\n",
    "matplotlib.rcParams['figure.figsize'] = [12, 8]\n",
    "import mne\n",
    "\n",
    "# objeto com o nome dos canais pelo modelo da touca utilizada\n",
    "montage = mne.channels.make_standard_montage('EGI_256')\n",
    "# criando o objeto `info` (o restante dos valores já temos)\n",
    "info = mne.create_info(montage.ch_names,\n",
    "                       sfreq=descriptor['sampling_rate'],\n",
    "                       ch_types='eeg')\n",
    "info.set_montage(montage)\n",
    "info\n",
    "\n",
    "\n",
    "# plotando o padrão EGI 256\n",
    "print('EGI 256')\n",
    "montage.plot()\n",
    "# plotando o padrão 10-20\n",
    "print('10-20 SYSTEM')\n",
    "# neste padrão a figura estava ficando maior, então diminuí\n",
    "matplotlib.rcParams['figure.figsize'] = [10, 7]\n",
    "mne.channels.make_standard_montage('standard_1020').plot()\n",
    "print()\n",
    "\n",
    "X = X[:,:256,:]\n",
    "# objeto event é uma matriz tridimensional conforme explicado em aula\n",
    "events = np.array([[i, 0, e] for i, e in enumerate(y)])\n",
    "# instanciando objeto EpochArray\n",
    "epoch = mne.EpochsArray(X, info, events=events)\n",
    "epoch\n",
    "\n",
    "epoch_ex = epoch.copy().pick_channels(['E116', 'E126', 'E150'])\n",
    "epoch_ex.filter(l_freq=4.0, h_freq=14.0)\n",
    "epoch_ex\n",
    "\n",
    "print(epoch.get_data().shape)\n",
    "print(epoch_ex.get_data().shape)\n",
    "\n",
    "matplotlib.rcParams['figure.figsize'] = [6., 4.]\n",
    "\n",
    "# escolhendo (filtrando) somente o evento '1'\n",
    "e = '1'\n",
    "# selecionando alguns trials aleatórios (3, 9 e 11)\n",
    "for i in (3, 9, 11):\n",
    "    epoch_ex[e][-i].plot_psd()\n",
    "# mostrando todos os trials do evento '1'\n",
    "matplotlib.rcParams['figure.figsize'] = [12., 8.]\n",
    "epoch_ex[e].plot_psd()\n",
    "print()"
   ]
  }
 ],
 "metadata": {
  "kernelspec": {
   "display_name": "Python 3",
   "language": "python",
   "name": "python3"
  },
  "language_info": {
   "codemirror_mode": {
    "name": "ipython",
    "version": 3
   },
   "file_extension": ".py",
   "mimetype": "text/x-python",
   "name": "python",
   "nbconvert_exporter": "python",
   "pygments_lexer": "ipython3",
   "version": "3.6.10"
  }
 },
 "nbformat": 4,
 "nbformat_minor": 4
}